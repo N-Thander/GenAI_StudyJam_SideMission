{
 "cells": [
  {
   "cell_type": "code",
   "execution_count": 48,
   "metadata": {},
   "outputs": [],
   "source": [
    "# imports here\n",
    "import pandas as pd\n",
    "import csv"
   ]
  },
  {
   "cell_type": "code",
   "execution_count": 25,
   "metadata": {},
   "outputs": [],
   "source": [
    "# paths here\n",
    "\n",
    "file = \"GenAI_Side_Mission_Dataset.csv\""
   ]
  },
  {
   "cell_type": "code",
   "execution_count": 49,
   "metadata": {},
   "outputs": [
    {
     "name": "stdout",
     "output_type": "stream",
     "text": [
      "                  Name Class Roll No Claimed  Reactions\n",
      "0          Amitava Das    CSE2022084       5          7\n",
      "1   Rounak Chakraborty    CSE2022071       1          2\n",
      "2        Mayukh Halder    CSE2022096      20          3\n",
      "3          Ankan Ghosh    CSE2022085       3          4\n",
      "4            Kalpa Das    CSE2022112       1          4\n",
      "5          Hirak Sabui    ECE2022029    Some          7\n",
      "6   Swarnava Mukherjee    CSE2022067       2          3\n",
      "7        Priyanshu Roy    CSE2023188       2          3\n",
      "8         Subhajit Bag    CSE2022066       2          4\n",
      "9       Anushka Dutta     CSE2022070       1          2\n",
      "10  Soumya Chakraborty     IT2022006       3          3\n",
      "11   Swapnadeep Podder     IT2022116       5          0\n",
      "12\n"
     ]
    }
   ],
   "source": [
    "# reading the data\n",
    "\n",
    "df = pd.read_csv(file)\n",
    "print(df.to_string())\n",
    "\n",
    "row_count = len(df)\n",
    "print(row_count)\n",
    "\n",
    "# row_count = df.shape[0]\n",
    "# print(row_count)\n"
   ]
  },
  {
   "cell_type": "code",
   "execution_count": 50,
   "metadata": {},
   "outputs": [
    {
     "name": "stdout",
     "output_type": "stream",
     "text": [
      "                  Name Class Roll No  Claimed  Reactions\n",
      "0          Amitava Das    CSE2022084      5.0          7\n",
      "1   Rounak Chakraborty    CSE2022071      1.0          2\n",
      "2        Mayukh Halder    CSE2022096     20.0          3\n",
      "3          Ankan Ghosh    CSE2022085      3.0          4\n",
      "4            Kalpa Das    CSE2022112      1.0          4\n",
      "5   Swarnava Mukherjee    CSE2022067      2.0          3\n",
      "6        Priyanshu Roy    CSE2023188      2.0          3\n",
      "7         Subhajit Bag    CSE2022066      2.0          4\n",
      "8       Anushka Dutta     CSE2022070      1.0          2\n",
      "9   Soumya Chakraborty     IT2022006      3.0          3\n",
      "10   Swapnadeep Podder     IT2022116      5.0          0\n",
      "11\n"
     ]
    }
   ],
   "source": [
    "# cleaning data\n",
    "\n",
    "df['Claimed'] = pd.to_numeric(df['Claimed'], errors='coerce')\n",
    "df = df.dropna(subset=['Claimed'])\n",
    "df = df.reset_index(drop=True)\n",
    "\n",
    "print(df.to_string())\n",
    "row_count = len(df)\n",
    "print(row_count)"
   ]
  },
  {
   "cell_type": "code",
   "execution_count": 51,
   "metadata": {},
   "outputs": [
    {
     "name": "stdout",
     "output_type": "stream",
     "text": [
      "                 Name Class Roll No  Claimed  Reactions\n",
      "0         Amitava Das    CSE2022084      5.0          7\n",
      "1  Rounak Chakraborty    CSE2022071      1.0          2\n",
      "3         Ankan Ghosh    CSE2022085      3.0          4\n",
      "4           Kalpa Das    CSE2022112      1.0          4\n",
      "5  Swarnava Mukherjee    CSE2022067      2.0          3\n",
      "6       Priyanshu Roy    CSE2023188      2.0          3\n",
      "7        Subhajit Bag    CSE2022066      2.0          4\n",
      "8      Anushka Dutta     CSE2022070      1.0          2\n",
      "9  Soumya Chakraborty     IT2022006      3.0          3\n",
      "9\n"
     ]
    }
   ],
   "source": [
    "# remove ppl who got less than claimed\n",
    "\n",
    "df['Claimed'] = pd.to_numeric(df['Claimed'], errors='coerce')\n",
    "df['Reactions'] = pd.to_numeric(df['Reactions'], errors='coerce')\n",
    "\n",
    "df_filtered = df[df['Claimed'] <= df['Reactions']]\n",
    "\n",
    "print(df_filtered)\n",
    "print(len(df_filtered))\n",
    "\n"
   ]
  },
  {
   "cell_type": "code",
   "execution_count": 52,
   "metadata": {},
   "outputs": [
    {
     "name": "stdout",
     "output_type": "stream",
     "text": [
      "                 Name Class Roll No  Claimed  Reactions  Difference\n",
      "0         Amitava Das    CSE2022084      5.0          7         2.0\n",
      "1  Rounak Chakraborty    CSE2022071      1.0          2         1.0\n",
      "2         Ankan Ghosh    CSE2022085      3.0          4         1.0\n",
      "3           Kalpa Das    CSE2022112      1.0          4         3.0\n",
      "4  Swarnava Mukherjee    CSE2022067      2.0          3         1.0\n",
      "5       Priyanshu Roy    CSE2023188      2.0          3         1.0\n",
      "6        Subhajit Bag    CSE2022066      2.0          4         2.0\n",
      "7      Anushka Dutta     CSE2022070      1.0          2         1.0\n",
      "8  Soumya Chakraborty     IT2022006      3.0          3         0.0\n"
     ]
    },
    {
     "name": "stderr",
     "output_type": "stream",
     "text": [
      "C:\\Users\\Nasiruddin\\AppData\\Local\\Temp\\ipykernel_22008\\3024769318.py:3: SettingWithCopyWarning: \n",
      "A value is trying to be set on a copy of a slice from a DataFrame.\n",
      "Try using .loc[row_indexer,col_indexer] = value instead\n",
      "\n",
      "See the caveats in the documentation: https://pandas.pydata.org/pandas-docs/stable/user_guide/indexing.html#returning-a-view-versus-a-copy\n",
      "  df_filtered['Difference'] = df_filtered['Reactions'] - df_filtered['Claimed']\n"
     ]
    }
   ],
   "source": [
    "# finding differnece \n",
    "\n",
    "df_filtered['Difference'] = df_filtered['Reactions'] - df_filtered['Claimed']\n",
    "\n",
    "df_filtered = df_filtered.reset_index(drop=True)\n",
    "print(df_filtered)"
   ]
  },
  {
   "cell_type": "code",
   "execution_count": 53,
   "metadata": {},
   "outputs": [
    {
     "name": "stdout",
     "output_type": "stream",
     "text": [
      "                 Name Class Roll No  Claimed  Reactions  Difference\n",
      "0         Amitava Das    CSE2022084      5.0          7         2.0\n",
      "1  Rounak Chakraborty    CSE2022071      1.0          2         1.0\n",
      "2         Ankan Ghosh    CSE2022085      3.0          4         1.0\n",
      "3           Kalpa Das    CSE2022112      1.0          4         3.0\n",
      "4  Swarnava Mukherjee    CSE2022067      2.0          3         1.0\n",
      "5       Priyanshu Roy    CSE2023188      2.0          3         1.0\n",
      "6        Subhajit Bag    CSE2022066      2.0          4         2.0\n",
      "7      Anushka Dutta     CSE2022070      1.0          2         1.0\n",
      "8  Soumya Chakraborty     IT2022006      3.0          3         0.0\n",
      "9\n"
     ]
    }
   ],
   "source": [
    "# avoiding warning \n",
    "\n",
    "df_filtered.loc[:, 'Difference'] = df_filtered['Reactions'] - df_filtered['Claimed']\n",
    "df_filtered = df_filtered.reset_index(drop=True)\n",
    "\n",
    "print(df_filtered)\n",
    "print(len(df_filtered))"
   ]
  },
  {
   "cell_type": "code",
   "execution_count": 54,
   "metadata": {},
   "outputs": [
    {
     "name": "stdout",
     "output_type": "stream",
     "text": [
      "                 Name Class Roll No  Claimed  Reactions  Difference  \\\n",
      "0         Amitava Das    CSE2022084      5.0          7         2.0   \n",
      "1  Rounak Chakraborty    CSE2022071      1.0          2         1.0   \n",
      "2         Ankan Ghosh    CSE2022085      3.0          4         1.0   \n",
      "3           Kalpa Das    CSE2022112      1.0          4         3.0   \n",
      "4  Swarnava Mukherjee    CSE2022067      2.0          3         1.0   \n",
      "5       Priyanshu Roy    CSE2023188      2.0          3         1.0   \n",
      "6        Subhajit Bag    CSE2022066      2.0          4         2.0   \n",
      "7      Anushka Dutta     CSE2022070      1.0          2         1.0   \n",
      "8  Soumya Chakraborty     IT2022006      3.0          3         0.0   \n",
      "\n",
      "   Percentage  \n",
      "0   40.000000  \n",
      "1  100.000000  \n",
      "2   33.333333  \n",
      "3  300.000000  \n",
      "4   50.000000  \n",
      "5   50.000000  \n",
      "6  100.000000  \n",
      "7  100.000000  \n",
      "8    0.000000  \n"
     ]
    }
   ],
   "source": [
    "# percentage of ppl helped over claimed\n",
    "\n",
    "df_filtered['Percentage'] = (df_filtered['Difference'] / df_filtered['Claimed']) * 100\n",
    "\n",
    "print(df_filtered)"
   ]
  },
  {
   "cell_type": "code",
   "execution_count": 55,
   "metadata": {},
   "outputs": [
    {
     "name": "stdout",
     "output_type": "stream",
     "text": [
      "        Name Class Roll No  Claimed  Reactions  Difference  Percentage\n",
      "3  Kalpa Das    CSE2022112      1.0          4         3.0       300.0\n"
     ]
    }
   ],
   "source": [
    "# person with highest percentage over claimed\n",
    "\n",
    "person_with_highest_percentage = df_filtered[df_filtered['Percentage'] == df_filtered['Percentage'].max()]\n",
    "print(person_with_highest_percentage)"
   ]
  },
  {
   "cell_type": "code",
   "execution_count": 56,
   "metadata": {},
   "outputs": [
    {
     "name": "stdout",
     "output_type": "stream",
     "text": [
      "                 Name Class Roll No  Claimed  Reactions  Difference  \\\n",
      "0         Amitava Das    CSE2022084      5.0          7         2.0   \n",
      "1  Rounak Chakraborty    CSE2022071      1.0          2         1.0   \n",
      "2         Ankan Ghosh    CSE2022085      3.0          4         1.0   \n",
      "3           Kalpa Das    CSE2022112      1.0          4         3.0   \n",
      "4  Swarnava Mukherjee    CSE2022067      2.0          3         1.0   \n",
      "5       Priyanshu Roy    CSE2023188      2.0          3         1.0   \n",
      "6        Subhajit Bag    CSE2022066      2.0          4         2.0   \n",
      "7      Anushka Dutta     CSE2022070      1.0          2         1.0   \n",
      "8  Soumya Chakraborty     IT2022006      3.0          3         0.0   \n",
      "\n",
      "   Percentage  \n",
      "0   28.571429  \n",
      "1   50.000000  \n",
      "2   25.000000  \n",
      "3   75.000000  \n",
      "4   33.333333  \n",
      "5   33.333333  \n",
      "6   50.000000  \n",
      "7   50.000000  \n",
      "8    0.000000  \n"
     ]
    }
   ],
   "source": [
    "# percentage of ppl helped over reacted\n",
    "\n",
    "df_filtered['Percentage'] = (df_filtered['Difference'] / df_filtered['Reactions']) * 100\n",
    "\n",
    "print(df_filtered)"
   ]
  },
  {
   "cell_type": "code",
   "execution_count": 57,
   "metadata": {},
   "outputs": [
    {
     "name": "stdout",
     "output_type": "stream",
     "text": [
      "        Name Class Roll No  Claimed  Reactions  Difference  Percentage\n",
      "3  Kalpa Das    CSE2022112      1.0          4         3.0        75.0\n"
     ]
    }
   ],
   "source": [
    "# person with highest percentage over reactions\n",
    "\n",
    "person_with_highest_percentage = df_filtered[df_filtered['Percentage'] == df_filtered['Percentage'].max()]\n",
    "print(person_with_highest_percentage)"
   ]
  }
 ],
 "metadata": {
  "kernelspec": {
   "display_name": "py_torpedo",
   "language": "python",
   "name": "python3"
  },
  "language_info": {
   "codemirror_mode": {
    "name": "ipython",
    "version": 3
   },
   "file_extension": ".py",
   "mimetype": "text/x-python",
   "name": "python",
   "nbconvert_exporter": "python",
   "pygments_lexer": "ipython3",
   "version": "3.11.7"
  }
 },
 "nbformat": 4,
 "nbformat_minor": 2
}
